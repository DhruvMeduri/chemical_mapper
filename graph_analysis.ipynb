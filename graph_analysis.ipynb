{
 "cells": [
  {
   "cell_type": "code",
   "execution_count": 1,
   "metadata": {},
   "outputs": [],
   "source": [
    "#Now to compute the r-ball\n",
    "\n",
    "def compute_ball(adj,center,r):\n",
    "    ball = {center}\n",
    "    if r>0:\n",
    "        for i in range(len(adj[center])):\n",
    "            if adj[center][i] == 1:\n",
    "                ball = ball.union(compute_ball(adj,i,r-1))\n",
    "        return ball\n",
    "    \n",
    "    else:\n",
    "        return ball"
   ]
  },
  {
   "cell_type": "code",
   "execution_count": 2,
   "metadata": {},
   "outputs": [],
   "source": [
    "# Now pick up the vertices required and compute the distance required\n",
    "import random\n",
    "import linecache\n",
    "from mhfp.encoder import MHFPEncoder\n",
    "import json\n",
    "import numpy as np\n",
    "\n",
    "def compute_ball_avgs(file,query,processed_path, radius_max):\n",
    "    file = open(file)\n",
    "    graph = json.load(file)\n",
    "    adj = np.zeros(shape = (len(graph['mapper']['nodes']),len(graph['mapper']['nodes'])))\n",
    "    edges = graph['mapper']['links']\n",
    "\n",
    "    for edge in edges:\n",
    "        adj[edge['source']-1][edge['target']-1] = 1\n",
    "        adj[edge['target']-1][edge['source']-1] = 1\n",
    "    \n",
    "    ref = random.choice(graph['mapper']['nodes'][query]['vertices'])\n",
    "    mhfp_encoder = MHFPEncoder()\n",
    "    line = linecache.getline(processed_path, int(ref)+2)\n",
    "    struct = line.split(',')[-1]\n",
    "    ref = mhfp_encoder.encode(struct)\n",
    "    \n",
    "    avg_distance = []\n",
    "    sphere = {}\n",
    "    prev_ball = {}\n",
    "\n",
    "    for radius in range(radius_max):\n",
    "        temp_ball = compute_ball(adj,query,radius)\n",
    "        sphere = temp_ball.difference(prev_ball)\n",
    "        print(sphere)\n",
    "        max1 = 0\n",
    "        count = 0\n",
    "        for i in sphere:\n",
    "            temp = graph['mapper']['nodes'][i]['vertices']\n",
    "            for j in temp:\n",
    "                line = linecache.getline(processed_path, j+2)\n",
    "                struct = line.split(',')[-1]\n",
    "                temp_struc = mhfp_encoder.encode(struct)\n",
    "                max1 = max1 + mhfp_encoder.distance(temp_struc,ref)\n",
    "                #print(mhfp_encoder.distance(temp_struc,ref))\n",
    "                count = count + 1\n",
    "        if count > 0:\n",
    "            avg_distance.append(max1/count)\n",
    "            prev_ball = temp_ball\n",
    "        else:\n",
    "            break\n",
    "    return avg_distance\n",
    "    "
   ]
  },
  {
   "cell_type": "code",
   "execution_count": 5,
   "metadata": {},
   "outputs": [
    {
     "name": "stdout",
     "output_type": "stream",
     "text": [
      "{3161}\n",
      "{3043}\n",
      "{2866}\n",
      "{2818, 3074, 2823, 2824, 2827, 2828, 2829, 2832, 2834, 2836, 2844, 2973, 2975, 2980, 2983, 2856, 2985, 2986, 2988, 2990, 2991, 2993, 2994, 2995, 2999, 3000, 3009, 3019, 3020, 2766, 3024, 3028, 3029, 3070, 3031, 3032, 3034, 3044, 2789, 2790, 2791, 2797, 3053, 2799, 2803, 3061, 3064, 3065, 3066, 3067, 3069, 2814}\n",
      "[0.484130859375, 0.484130859375, 0.925537109375, 0.9603177584134616]\n"
     ]
    },
    {
     "data": {
      "image/png": "[encoded data removed]",
      "text/plain": [
       "<Figure size 432x288 with 1 Axes>"
      ]
     },
     "metadata": {
      "needs_background": "light"
     },
     "output_type": "display_data"
    }
   ],
   "source": [
    "from matplotlib import pyplot as plt\n",
    "\n",
    "file = './CLI_examples/final_7500_45_3_5.json'\n",
    "#file = './CLI_examples/final.json'\n",
    "data = './CLI_examples/processed_data.csv'\n",
    "query = 3161\n",
    "radius_max = 4\n",
    "\n",
    "\n",
    "y = compute_ball_avgs(file,query,data,radius_max)\n",
    "x = [i for i in range(len(y))]\n",
    "print(y)\n",
    "plt.plot(x,y)\n",
    "plt.show()\n",
    "\n",
    "\n"
   ]
  },
  {
   "cell_type": "code",
   "execution_count": 9,
   "metadata": {},
   "outputs": [
    {
     "name": "stdout",
     "output_type": "stream",
     "text": [
      "[0, 1]\n",
      "[0, 1]\n",
      "[0, 1]\n",
      "[0, 1]\n",
      "[1, 0]\n",
      "[1, 0]\n",
      "[1, 0]\n",
      "[0, 1]\n",
      "[0, 1]\n",
      "[1, 0]\n"
     ]
    }
   ],
   "source": [
    "import random\n",
    "a = range(2000000)\n",
    "for i in range(10):\n",
    "    temp = random.sample(a,2)\n",
    "    print(temp)"
   ]
  }
 ],
 "metadata": {
  "kernelspec": {
   "display_name": "Python 3",
   "language": "python",
   "name": "python3"
  },
  "language_info": {
   "codemirror_mode": {
    "name": "ipython",
    "version": 3
   },
   "file_extension": ".py",
   "mimetype": "text/x-python",
   "name": "python",
   "nbconvert_exporter": "python",
   "pygments_lexer": "ipython3",
   "version": "3.10.12"
  }
 },
 "nbformat": 4,
 "nbformat_minor": 2
}
