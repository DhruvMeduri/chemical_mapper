{
 "cells": [
  {
   "cell_type": "code",
   "execution_count": 2,
   "metadata": {},
   "outputs": [],
   "source": [
    "#Now to compute the r-ball\n",
    "\n",
    "def compute_ball(adj,center,r):\n",
    "    ball = {center}\n",
    "    if r>0:\n",
    "        for i in range(len(adj[center])):\n",
    "            if adj[center][i] == 1:\n",
    "                ball = ball.union(compute_ball(adj,i,r-1))\n",
    "        return ball\n",
    "    \n",
    "    else:\n",
    "        return ball"
   ]
  },
  {
   "cell_type": "code",
   "execution_count": 87,
   "metadata": {},
   "outputs": [
    {
     "name": "stdout",
     "output_type": "stream",
     "text": [
      "{1050}\n",
      "{1069}\n",
      "{1089}\n",
      "{1106, 1068}\n",
      "{1049, 1090, 1118}\n",
      "{1134}\n",
      "{1150}\n",
      "{1168}\n",
      "{1183}\n",
      "{1198}\n",
      "{1206}\n",
      "set()\n"
     ]
    },
    {
     "data": {
      "image/png": "[encoded data removed]",
      "text/plain": [
       "<Figure size 432x288 with 1 Axes>"
      ]
     },
     "metadata": {
      "needs_background": "light"
     },
     "output_type": "display_data"
    },
    {
     "data": {
      "image/png": "[encoded data removed]",
      "text/plain": [
       "<Figure size 432x288 with 1 Axes>"
      ]
     },
     "metadata": {
      "needs_background": "light"
     },
     "output_type": "display_data"
    },
    {
     "data": {
      "image/png": "[encoded data removed]",
      "text/plain": [
       "<Figure size 432x288 with 1 Axes>"
      ]
     },
     "metadata": {
      "needs_background": "light"
     },
     "output_type": "display_data"
    }
   ],
   "source": [
    "# Now pick up the vertices required and compute the distance required\n",
    "import random\n",
    "import linecache\n",
    "from mhfp.encoder import MHFPEncoder\n",
    "import json\n",
    "import numpy as np\n",
    "import matplotlib.pyplot as plt\n",
    "from rdkit import Chem\n",
    "from rdkit.Chem import rdFingerprintGenerator\n",
    "from rdkit import DataStructs\n",
    "from rdkit.Chem import rdFMCS\n",
    "\n",
    "def compute_ball_avgs(file,query,processed_path, radius_max):\n",
    "    file = open(file)\n",
    "    graph = json.load(file)\n",
    "    adj = np.zeros(shape = (len(graph['mapper']['nodes']),len(graph['mapper']['nodes'])))\n",
    "    edges = graph['mapper']['links']\n",
    "    lst1 = []\n",
    "    lst2 = []\n",
    "    lst3 = []\n",
    "\n",
    "    for edge in edges:\n",
    "        adj[edge['source']-1][edge['target']-1] = 1\n",
    "        adj[edge['target']-1][edge['source']-1] = 1\n",
    "    \n",
    "    ref = random.choice(graph['mapper']['nodes'][query]['vertices'])\n",
    "    mhfp_encoder = MHFPEncoder()\n",
    "    line = linecache.getline(processed_path, int(ref)+2)\n",
    "    struct = line.split(',')[-1]\n",
    "    ref = mhfp_encoder.encode(struct)\n",
    "\n",
    "    sphere = {}\n",
    "    prev_ball = {}\n",
    "\n",
    "    rdkgen = rdFingerprintGenerator.GetRDKitFPGenerator(fpSize=2048)\n",
    "\n",
    "    for radius in range(radius_max):\n",
    "        temp_ball = compute_ball(adj,query,radius)\n",
    "        sphere = temp_ball.difference(prev_ball)\n",
    "        print(sphere)\n",
    "        temp = {}\n",
    "        common = 0\n",
    "        fp_dis = 0\n",
    "        if len(sphere) != 0:\n",
    "            for i in sphere:\n",
    "                temp = set(graph['mapper']['nodes'][i]['vertices']).union(temp)\n",
    "\n",
    "            for j in range(100):\n",
    "\n",
    "                choice1 = random.choice(tuple(temp))\n",
    "                choice2 = random.choice(tuple(temp))\n",
    "                query_choice = random.choice(tuple(graph['mapper']['nodes'][query]['vertices']))\n",
    "\n",
    "                query_line = linecache.getline(processed_path, query_choice+2)\n",
    "                query_struct = query_line.split(',')[-1]\n",
    "                #query_encoded_struct = mhfp_encoder.encode(query_struct)\n",
    "                query_mol = Chem.MolFromSmiles(query_struct)\n",
    "                query_fp = rdkgen.GetFingerprint(query_mol)\n",
    "\n",
    "                line1 = linecache.getline(processed_path, choice1+2)\n",
    "                struct1 = line1.split(',')[-1]\n",
    "                #encoded_struc1 = mhfp_encoder.encode(struct1)\n",
    "                mol1 = Chem.MolFromSmiles(struct1)\n",
    "                fp1 = rdkgen.GetFingerprint(mol1)\n",
    "\n",
    "                line2 = linecache.getline(processed_path, choice2+2)\n",
    "                struct2 = line2.split(',')[-1]\n",
    "                #encoded_struc2 = mhfp_encoder.encode(struct2)\n",
    "                mol2 = Chem.MolFromSmiles(struct2)\n",
    "                fp2 = rdkgen.GetFingerprint(mol2)\n",
    "\n",
    "                vec1 = np.asarray(np.array(line1.split(',')[:-3]),dtype=float)\n",
    "                vec2 = np.asarray(np.array(line2.split(',')[:-3]),dtype=float)\n",
    "                query_vec = np.asarray(np.array(query_line.split(',')[:-3]),dtype=float)\n",
    "\n",
    "                euc_dis = np.linalg.norm(vec1-vec2)\n",
    "                fp_dis = DataStructs.TanimotoSimilarity(fp1,fp2)\n",
    "                lst1.append([euc_dis,fp_dis])\n",
    "\n",
    "                euc_dis = np.linalg.norm(query_vec - vec1)\n",
    "                common = common + (rdFMCS.FindMCS([mol1,query_mol]).numAtoms)/100\n",
    "                fp_dis = fp_dis + (DataStructs.TanimotoSimilarity(query_fp,fp1))/100\n",
    "                \n",
    "            graph_dis = radius\n",
    "            lst2.append([graph_dis,common])\n",
    "            lst3.append([graph_dis,fp_dis])\n",
    "            prev_ball = temp_ball\n",
    "        else:\n",
    "            break\n",
    "        \n",
    "    return [lst1,lst2,lst3]\n",
    "\n",
    "lists = compute_ball_avgs('./CLI_examples/final_100_50_1.5_10.json',1050,'./CLI_examples/processed_data.csv',15)\n",
    "\n",
    "check = np.array(lists[0])\n",
    "x = check[:,0]\n",
    "y = check[:,1]\n",
    "plt.scatter(x,y)\n",
    "plt.show()\n",
    "\n",
    "check = np.array(lists[1])\n",
    "x = check[:,0]\n",
    "y = check[:,1]\n",
    "plt.scatter(x,y)\n",
    "plt.show()\n",
    "\n",
    "check = np.array(lists[2])\n",
    "x = check[:,0]\n",
    "y = check[:,1]\n",
    "plt.scatter(x,y)\n",
    "plt.show()\n",
    "\n",
    "    "
   ]
  },
  {
   "cell_type": "markdown",
   "metadata": {},
   "source": [
    "\n"
   ]
  },
  {
   "cell_type": "code",
   "execution_count": 153,
   "metadata": {},
   "outputs": [
    {
     "name": "stdout",
     "output_type": "stream",
     "text": [
      "Amide Perc:  0.55\n",
      "Halogen Perc:  0.16\n",
      "NO Perc:  0.0\n",
      "0\n"
     ]
    }
   ],
   "source": [
    "# The previous results do not look impresive.\n",
    "# Let us start smallby first sampling across connected components\n",
    "from rdkit.Chem import rdFMCS\n",
    "from rdkit import Chem\n",
    "import json\n",
    "import numpy as np\n",
    "import random\n",
    "import linecache\n",
    "from rdkit.Chem import Draw\n",
    "from rdkit.Chem import rdMolDescriptors\n",
    "\n",
    "file = open('./CLI_examples/final_100_50_1.5_10.json')\n",
    "graph = json.load(file)\n",
    "adj = np.zeros(shape = (len(graph['mapper']['nodes']),len(graph['mapper']['nodes'])))\n",
    "edges = graph['mapper']['links']\n",
    "for i in range(len(graph['connected_components'])):\n",
    "    if 4378 in graph['connected_components'][i]:\n",
    "        component_number  = i\n",
    "\n",
    "# Comparing the MCS between\n",
    "common = 0\n",
    "lst = []\n",
    "count1 = 0\n",
    "count2 = 0\n",
    "count3 = 0\n",
    "substruct_NO = Chem.MolFromSmiles(\"O-N=O\")\n",
    "substruct_F = Chem.MolFromSmiles(\"F\")\n",
    "substruct_Cl = Chem.MolFromSmiles(\"Cl\")\n",
    "substruct_Br = Chem.MolFromSmiles(\"Br\")\n",
    "substruct_I = Chem.MolFromSmiles(\"I\")\n",
    "nodes = [223]\n",
    "for node in nodes:\n",
    "    for i in range(100):\n",
    "        #random_node1 = random.choice(graph['connected_components'][component_number])\n",
    "        random_point1 = random.choice(graph['mapper']['nodes'][node]['vertices'])\n",
    "        line1 = linecache.getline('./CLI_examples/processed_data.csv', random_point1+2)\n",
    "        struct1 = line1.split(',')[-1]\n",
    "\n",
    "        mol1 = Chem.MolFromSmiles(struct1)\n",
    "        if rdMolDescriptors.CalcNumAmideBonds(mol1)!=0:\n",
    "            count1 = count1 + 1\n",
    "        \n",
    "        if mol1.HasSubstructMatch(substruct_F) or mol1.HasSubstructMatch(substruct_Cl) or mol1.HasSubstructMatch(substruct_Br) or mol1.HasSubstructMatch(substruct_I):\n",
    "            count2 = count2 + 1\n",
    "        \n",
    "        if mol1.HasSubstructMatch(substruct_NO):\n",
    "            count3 = count3 + 1\n",
    "        \n",
    "        img = Draw.MolToImage(mol1)\n",
    "        img.save(\"./CLI_examples/common/\"+\"vertex_\"+str(i)+\"_node_\"+str(node)+'.png')\n",
    "        lst.append(mol1)\n",
    "print(\"Amide Perc: \",count1/(100*len(nodes)))\n",
    "print(\"Halogen Perc: \",count2/(100*len(nodes)))\n",
    "print(\"NO Perc: \",count3/(100*len(nodes)))\n",
    "\n",
    "'''print(\"Amide Perc: \",count1/100)\n",
    "for i in range(50):\n",
    "    print(i)\n",
    "    #random_node1 = random.choice(graph['connected_components'][148])\n",
    "    random_point1 = random.choice(graph['mapper']['nodes'][1090]['vertices'])\n",
    "    line1 = linecache.getline('./CLI_examples/processed_data.csv', random_point1+2)\n",
    "    struct1 = line1.split(',')[-1]\n",
    "    mol1 = Chem.MolFromSmiles(struct1)\n",
    "    lst.append(mol1)\n",
    "\n",
    "    img = Draw.MolToImage(Chem.MolFromSmarts(rdFMCS.FindMCS([mol1,mol2]).smartsString))\n",
    "    random_node2 = random.choice(graph['connected_components'][148])\n",
    "    random_point2 = random.choice(graph['mapper']['nodes'][random_node2]['vertices'])\n",
    "    line2 = linecache.getline('./CLI_examples/processed_data.csv', random_point2+2)\n",
    "    struct2 = line2.split(',')[-1]\n",
    "    mol2 = Chem.MolFromSmiles(struct2)\n",
    "    \n",
    "\n",
    "    common = common + (rdFMCprint(\"Amide Perc: \",count1/100)S.FindMCS([mol1,mol2]).numAtoms)/100\n",
    "    img = Draw.MolToImage(Chem.MolFromSmarts(rdFMCS.FindMCS([mol1,mol2]).smartsString))\n",
    "    img.save(\"./CLI_examples/common/common_\"+str(i)+\".png\")\n",
    "'''\n",
    "print(common)\n",
    "img = Draw.MolToImage(Chem.MolFromSmarts(rdFMCS.FindMCS(lst).smartsString))\n",
    "img.save('./CLI_examples/common/common.png')\n",
    "    "
   ]
  },
  {
   "cell_type": "code",
   "execution_count": 13,
   "metadata": {},
   "outputs": [
    {
     "name": "stdout",
     "output_type": "stream",
     "text": [
      "[{'Core': <rdkit.Chem.rdchem.Mol object at 0x73e9ecae61f0>, 'R1': <rdkit.Chem.rdchem.Mol object at 0x73e9ecae6260>, 'R2': <rdkit.Chem.rdchem.Mol object at 0x73e9ecae6180>, 'R3': <rdkit.Chem.rdchem.Mol object at 0x73e9ecae5e70>, 'R4': <rdkit.Chem.rdchem.Mol object at 0x73e9ecae5540>}]\n"
     ]
    }
   ],
   "source": [
    "#This is for debugging\n",
    "from rdkit import Chem\n",
    "from rdkit.Chem import Draw\n",
    "from rdkit.Chem.Draw import IPythonConsole\n",
    "import pandas as pd\n",
    "from rdkit.Chem import PandasTools\n",
    "PandasTools.RenderImagesInAllDataFrames(images=True)\n",
    "import rdkit\n",
    "from rdkit.Chem import rdRGroupDecomposition\n",
    "import linecache\n",
    "\n",
    "line1 = linecache.getline('./CLI_examples/processed_data.csv', 20)\n",
    "struct = line1.split(',')[-2]\n",
    "core = Chem.MolFromSmiles(struct)\n",
    "struct = line1.split(',')[-1]\n",
    "mol = Chem.MolFromSmiles(struct)\n",
    "img = Draw.MolToImage(mol)\n",
    "img.show()\n",
    "rgd,fails = rdRGroupDecomposition.RGroupDecompose([core],[mol])\n",
    "print(rgd)\n",
    "img = Draw.MolsToGridImage(rgd[0].values(),legends=rgd[0].keys(),returnPNG=False)\n",
    "img.save('sample.png')"
   ]
  },
  {
   "cell_type": "code",
   "execution_count": 17,
   "metadata": {},
   "outputs": [
    {
     "name": "stdout",
     "output_type": "stream",
     "text": [
      "[3*]O[3*]                  1\n",
      "[5*]N[5*]                  1\n",
      "[16*]c1cc(C)c(Cl)c(C)c1    1\n",
      "[1*]C(=O)CCCCC[4*]         1\n",
      "[4*]C(C)C(N)=O             1\n",
      "Name: count, dtype: int64\n"
     ]
    }
   ],
   "source": [
    "import sys\n",
    "from rdkit import Chem\n",
    "from rdkit.Chem import AllChem\n",
    "from rdkit.Chem import Draw\n",
    "from rdkit.sping import PIL\n",
    "from rdkit.Chem import rdRGroupDecomposition\n",
    "from rdkit.Chem import BRICS\n",
    "from PIL import Image\n",
    "from PIL import ImageDraw\n",
    "import linecache\n",
    "import base64\n",
    "from PIL import ImageFont\n",
    "import numpy as np\n",
    "import pandas as pd\n",
    "\n",
    "lst = []\n",
    "\n",
    "line = linecache.getline(\"./CLI_examples/processed_data.csv\", 200)\n",
    "structure = line.split(',')[-1]\n",
    "mol = Chem.MolFromSmiles(structure)\n",
    "pieces = [Chem.MolFromSmiles(x) for x in BRICS.BRICSDecompose(mol)]\n",
    "\n",
    "\n",
    "pieces = [Chem.MolToSmiles(i) for i in pieces]\n",
    "pieces = np.array(pieces)\n",
    "print(pd.value_counts(pieces))\n",
    "for i in pieces:\n",
    "    img = Draw.MolToImage(Chem.MolFromSmiles(i))\n",
    "    img.show()\n",
    "\n",
    "\n",
    "#Draw.MolsToGridImage(pieces,molsPerRow=4)"
   ]
  }
 ],
 "metadata": {
  "kernelspec": {
   "display_name": "Python 3",
   "language": "python",
   "name": "python3"
  },
  "language_info": {
   "codemirror_mode": {
    "name": "ipython",
    "version": 3
   },
   "file_extension": ".py",
   "mimetype": "text/x-python",
   "name": "python",
   "nbconvert_exporter": "python",
   "pygments_lexer": "ipython3",
   "version": "3.10.12"
  }
 },
 "nbformat": 4,
 "nbformat_minor": 2
}
