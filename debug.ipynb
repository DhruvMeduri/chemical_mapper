{
 "cells": [
  {
   "cell_type": "code",
   "execution_count": 21,
   "metadata": {},
   "outputs": [
    {
     "name": "stdout",
     "output_type": "stream",
     "text": [
      "[[ 0.77627915  1.4811609  -0.05216069 ... -0.30313802 -0.9140043\n",
      "  -1.5830982 ]\n",
      " [ 0.1759468   1.8608587  -0.37749845 ... -0.1339534  -1.2643373\n",
      "  -1.4244325 ]\n",
      " [ 1.0030795   0.35911945 -0.04766299 ... -0.5599432  -0.14949572\n",
      "  -1.2449317 ]\n",
      " ...\n",
      " [ 1.5002239  -0.78065115  0.6538213  ...  0.16849265 -0.80160636\n",
      "  -0.75527793]\n",
      " [ 0.3644195  -0.28653458  1.0267187  ...  1.3895043   0.08948372\n",
      "   0.6234026 ]\n",
      " [ 1.848001   -1.7906517   0.21971849 ... -0.22112082  0.5636611\n",
      "  -0.3599808 ]]\n",
      "[[0. 0. 0. ... 0. 0. 0.]\n",
      " [0. 0. 0. ... 0. 0. 0.]\n",
      " [0. 0. 0. ... 0. 0. 0.]\n",
      " ...\n",
      " [0. 0. 0. ... 0. 0. 0.]\n",
      " [0. 0. 0. ... 0. 0. 0.]\n",
      " [0. 0. 0. ... 0. 0. 0.]]\n"
     ]
    }
   ],
   "source": [
    "from sklearn.metrics import DistanceMetric\n",
    "import pandas as pd\n",
    "import numpy as np\n",
    "\n",
    "dist = DistanceMetric.get_metric('jaccard')\n",
    "df = pd.read_csv(\"./CLI_examples/SMILES_repre.csv\")\n",
    "df = df.drop(['Label','Structure'],axis = 1)\n",
    "arr = np.array(df)\n",
    "print(arr)\n",
    "mat = dist.pairwise(arr)\n",
    "print(mat)"
   ]
  }
 ],
 "metadata": {
  "kernelspec": {
   "display_name": "Python 3",
   "language": "python",
   "name": "python3"
  },
  "language_info": {
   "codemirror_mode": {
    "name": "ipython",
    "version": 3
   },
   "file_extension": ".py",
   "mimetype": "text/x-python",
   "name": "python",
   "nbconvert_exporter": "python",
   "pygments_lexer": "ipython3",
   "version": "3.10.12"
  }
 },
 "nbformat": 4,
 "nbformat_minor": 2
}
